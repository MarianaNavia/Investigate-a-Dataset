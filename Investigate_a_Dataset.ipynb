{
 "cells": [
  {
   "cell_type": "markdown",
   "metadata": {},
   "source": [
    "\n",
    "\n",
    "# Project:  TMDb movies Data Analysis\n",
    "\n",
    "## Table of Contents\n",
    "<ul>\n",
    "<li><a href=\"#intro\">Introduction</a></li>\n",
    "<li><a href=\"#wrangling\">Data Wrangling</a></li>\n",
    "<li><a href=\"#eda\">Exploratory Data Analysis</a></li>\n",
    "<li><a href=\"#conclusions\">Conclusions</a></li>\n",
    "</ul>"
   ]
  },
  {
   "cell_type": "markdown",
   "metadata": {},
   "source": [
    "<a id='intro'></a>\n",
    "## Introduction\n",
    "\n",
    "> In this project we will be analyzing TMDb data related to films. As we know, TMDb is a well known community built and online database that includes information about cast, production crew and personal biographies, plot summaries, trivia, ratings, etc.\n",
    "\n",
    ">TMDb web page: https://www.themoviedb.org/\n",
    "\n",
    "> To download the data set: https://s3.amazonaws.com/video.udacity-data.com/topher/2018/July/5b57919a_data-set-options/data-set-options.pdf"
   ]
  },
  {
   "cell_type": "code",
   "execution_count": 1,
   "metadata": {},
   "outputs": [],
   "source": [
    "# We will use this cell to set up import statements for all of the packages that we need\n",
    "\n",
    "import numpy as np\n",
    "import pandas as pd\n",
    "from datetime import datetime\n",
    "import matplotlib.pyplot as plt\n",
    "import seaborn as sns\n",
    "% matplotlib inline\n"
   ]
  },
  {
   "cell_type": "markdown",
   "metadata": {},
   "source": [
    "<a id='wrangling'></a>\n",
    "## Data Wrangling\n",
    "\n",
    "> In this section of the report we will load the data, check for cleanliness, and then trim and clean the dataset if it's necessary for proper analysis. \n",
    "\n",
    "### General Properties"
   ]
  },
  {
   "cell_type": "markdown",
   "metadata": {},
   "source": [
    "> First, let's load the data and check the general properties of the dataset."
   ]
  },
  {
   "cell_type": "code",
   "execution_count": 2,
   "metadata": {},
   "outputs": [
    {
     "data": {
      "text/html": [
       "<div>\n",
       "<style scoped>\n",
       "    .dataframe tbody tr th:only-of-type {\n",
       "        vertical-align: middle;\n",
       "    }\n",
       "\n",
       "    .dataframe tbody tr th {\n",
       "        vertical-align: top;\n",
       "    }\n",
       "\n",
       "    .dataframe thead th {\n",
       "        text-align: right;\n",
       "    }\n",
       "</style>\n",
       "<table border=\"1\" class=\"dataframe\">\n",
       "  <thead>\n",
       "    <tr style=\"text-align: right;\">\n",
       "      <th></th>\n",
       "      <th>id</th>\n",
       "      <th>imdb_id</th>\n",
       "      <th>popularity</th>\n",
       "      <th>budget</th>\n",
       "      <th>revenue</th>\n",
       "      <th>original_title</th>\n",
       "      <th>cast</th>\n",
       "      <th>homepage</th>\n",
       "      <th>director</th>\n",
       "      <th>tagline</th>\n",
       "      <th>...</th>\n",
       "      <th>overview</th>\n",
       "      <th>runtime</th>\n",
       "      <th>genres</th>\n",
       "      <th>production_companies</th>\n",
       "      <th>release_date</th>\n",
       "      <th>vote_count</th>\n",
       "      <th>vote_average</th>\n",
       "      <th>release_year</th>\n",
       "      <th>budget_adj</th>\n",
       "      <th>revenue_adj</th>\n",
       "    </tr>\n",
       "  </thead>\n",
       "  <tbody>\n",
       "    <tr>\n",
       "      <th>0</th>\n",
       "      <td>135397</td>\n",
       "      <td>tt0369610</td>\n",
       "      <td>32.985763</td>\n",
       "      <td>150000000</td>\n",
       "      <td>1513528810</td>\n",
       "      <td>Jurassic World</td>\n",
       "      <td>Chris Pratt|Bryce Dallas Howard|Irrfan Khan|Vi...</td>\n",
       "      <td>http://www.jurassicworld.com/</td>\n",
       "      <td>Colin Trevorrow</td>\n",
       "      <td>The park is open.</td>\n",
       "      <td>...</td>\n",
       "      <td>Twenty-two years after the events of Jurassic ...</td>\n",
       "      <td>124</td>\n",
       "      <td>Action|Adventure|Science Fiction|Thriller</td>\n",
       "      <td>Universal Studios|Amblin Entertainment|Legenda...</td>\n",
       "      <td>6/9/15</td>\n",
       "      <td>5562</td>\n",
       "      <td>6.5</td>\n",
       "      <td>2015</td>\n",
       "      <td>1.379999e+08</td>\n",
       "      <td>1.392446e+09</td>\n",
       "    </tr>\n",
       "    <tr>\n",
       "      <th>1</th>\n",
       "      <td>76341</td>\n",
       "      <td>tt1392190</td>\n",
       "      <td>28.419936</td>\n",
       "      <td>150000000</td>\n",
       "      <td>378436354</td>\n",
       "      <td>Mad Max: Fury Road</td>\n",
       "      <td>Tom Hardy|Charlize Theron|Hugh Keays-Byrne|Nic...</td>\n",
       "      <td>http://www.madmaxmovie.com/</td>\n",
       "      <td>George Miller</td>\n",
       "      <td>What a Lovely Day.</td>\n",
       "      <td>...</td>\n",
       "      <td>An apocalyptic story set in the furthest reach...</td>\n",
       "      <td>120</td>\n",
       "      <td>Action|Adventure|Science Fiction|Thriller</td>\n",
       "      <td>Village Roadshow Pictures|Kennedy Miller Produ...</td>\n",
       "      <td>5/13/15</td>\n",
       "      <td>6185</td>\n",
       "      <td>7.1</td>\n",
       "      <td>2015</td>\n",
       "      <td>1.379999e+08</td>\n",
       "      <td>3.481613e+08</td>\n",
       "    </tr>\n",
       "    <tr>\n",
       "      <th>2</th>\n",
       "      <td>262500</td>\n",
       "      <td>tt2908446</td>\n",
       "      <td>13.112507</td>\n",
       "      <td>110000000</td>\n",
       "      <td>295238201</td>\n",
       "      <td>Insurgent</td>\n",
       "      <td>Shailene Woodley|Theo James|Kate Winslet|Ansel...</td>\n",
       "      <td>http://www.thedivergentseries.movie/#insurgent</td>\n",
       "      <td>Robert Schwentke</td>\n",
       "      <td>One Choice Can Destroy You</td>\n",
       "      <td>...</td>\n",
       "      <td>Beatrice Prior must confront her inner demons ...</td>\n",
       "      <td>119</td>\n",
       "      <td>Adventure|Science Fiction|Thriller</td>\n",
       "      <td>Summit Entertainment|Mandeville Films|Red Wago...</td>\n",
       "      <td>3/18/15</td>\n",
       "      <td>2480</td>\n",
       "      <td>6.3</td>\n",
       "      <td>2015</td>\n",
       "      <td>1.012000e+08</td>\n",
       "      <td>2.716190e+08</td>\n",
       "    </tr>\n",
       "    <tr>\n",
       "      <th>3</th>\n",
       "      <td>140607</td>\n",
       "      <td>tt2488496</td>\n",
       "      <td>11.173104</td>\n",
       "      <td>200000000</td>\n",
       "      <td>2068178225</td>\n",
       "      <td>Star Wars: The Force Awakens</td>\n",
       "      <td>Harrison Ford|Mark Hamill|Carrie Fisher|Adam D...</td>\n",
       "      <td>http://www.starwars.com/films/star-wars-episod...</td>\n",
       "      <td>J.J. Abrams</td>\n",
       "      <td>Every generation has a story.</td>\n",
       "      <td>...</td>\n",
       "      <td>Thirty years after defeating the Galactic Empi...</td>\n",
       "      <td>136</td>\n",
       "      <td>Action|Adventure|Science Fiction|Fantasy</td>\n",
       "      <td>Lucasfilm|Truenorth Productions|Bad Robot</td>\n",
       "      <td>12/15/15</td>\n",
       "      <td>5292</td>\n",
       "      <td>7.5</td>\n",
       "      <td>2015</td>\n",
       "      <td>1.839999e+08</td>\n",
       "      <td>1.902723e+09</td>\n",
       "    </tr>\n",
       "    <tr>\n",
       "      <th>4</th>\n",
       "      <td>168259</td>\n",
       "      <td>tt2820852</td>\n",
       "      <td>9.335014</td>\n",
       "      <td>190000000</td>\n",
       "      <td>1506249360</td>\n",
       "      <td>Furious 7</td>\n",
       "      <td>Vin Diesel|Paul Walker|Jason Statham|Michelle ...</td>\n",
       "      <td>http://www.furious7.com/</td>\n",
       "      <td>James Wan</td>\n",
       "      <td>Vengeance Hits Home</td>\n",
       "      <td>...</td>\n",
       "      <td>Deckard Shaw seeks revenge against Dominic Tor...</td>\n",
       "      <td>137</td>\n",
       "      <td>Action|Crime|Thriller</td>\n",
       "      <td>Universal Pictures|Original Film|Media Rights ...</td>\n",
       "      <td>4/1/15</td>\n",
       "      <td>2947</td>\n",
       "      <td>7.3</td>\n",
       "      <td>2015</td>\n",
       "      <td>1.747999e+08</td>\n",
       "      <td>1.385749e+09</td>\n",
       "    </tr>\n",
       "  </tbody>\n",
       "</table>\n",
       "<p>5 rows × 21 columns</p>\n",
       "</div>"
      ],
      "text/plain": [
       "       id    imdb_id  popularity     budget     revenue  \\\n",
       "0  135397  tt0369610   32.985763  150000000  1513528810   \n",
       "1   76341  tt1392190   28.419936  150000000   378436354   \n",
       "2  262500  tt2908446   13.112507  110000000   295238201   \n",
       "3  140607  tt2488496   11.173104  200000000  2068178225   \n",
       "4  168259  tt2820852    9.335014  190000000  1506249360   \n",
       "\n",
       "                 original_title  \\\n",
       "0                Jurassic World   \n",
       "1            Mad Max: Fury Road   \n",
       "2                     Insurgent   \n",
       "3  Star Wars: The Force Awakens   \n",
       "4                     Furious 7   \n",
       "\n",
       "                                                cast  \\\n",
       "0  Chris Pratt|Bryce Dallas Howard|Irrfan Khan|Vi...   \n",
       "1  Tom Hardy|Charlize Theron|Hugh Keays-Byrne|Nic...   \n",
       "2  Shailene Woodley|Theo James|Kate Winslet|Ansel...   \n",
       "3  Harrison Ford|Mark Hamill|Carrie Fisher|Adam D...   \n",
       "4  Vin Diesel|Paul Walker|Jason Statham|Michelle ...   \n",
       "\n",
       "                                            homepage          director  \\\n",
       "0                      http://www.jurassicworld.com/   Colin Trevorrow   \n",
       "1                        http://www.madmaxmovie.com/     George Miller   \n",
       "2     http://www.thedivergentseries.movie/#insurgent  Robert Schwentke   \n",
       "3  http://www.starwars.com/films/star-wars-episod...       J.J. Abrams   \n",
       "4                           http://www.furious7.com/         James Wan   \n",
       "\n",
       "                         tagline      ...       \\\n",
       "0              The park is open.      ...        \n",
       "1             What a Lovely Day.      ...        \n",
       "2     One Choice Can Destroy You      ...        \n",
       "3  Every generation has a story.      ...        \n",
       "4            Vengeance Hits Home      ...        \n",
       "\n",
       "                                            overview runtime  \\\n",
       "0  Twenty-two years after the events of Jurassic ...     124   \n",
       "1  An apocalyptic story set in the furthest reach...     120   \n",
       "2  Beatrice Prior must confront her inner demons ...     119   \n",
       "3  Thirty years after defeating the Galactic Empi...     136   \n",
       "4  Deckard Shaw seeks revenge against Dominic Tor...     137   \n",
       "\n",
       "                                      genres  \\\n",
       "0  Action|Adventure|Science Fiction|Thriller   \n",
       "1  Action|Adventure|Science Fiction|Thriller   \n",
       "2         Adventure|Science Fiction|Thriller   \n",
       "3   Action|Adventure|Science Fiction|Fantasy   \n",
       "4                      Action|Crime|Thriller   \n",
       "\n",
       "                                production_companies release_date vote_count  \\\n",
       "0  Universal Studios|Amblin Entertainment|Legenda...       6/9/15       5562   \n",
       "1  Village Roadshow Pictures|Kennedy Miller Produ...      5/13/15       6185   \n",
       "2  Summit Entertainment|Mandeville Films|Red Wago...      3/18/15       2480   \n",
       "3          Lucasfilm|Truenorth Productions|Bad Robot     12/15/15       5292   \n",
       "4  Universal Pictures|Original Film|Media Rights ...       4/1/15       2947   \n",
       "\n",
       "   vote_average  release_year    budget_adj   revenue_adj  \n",
       "0           6.5          2015  1.379999e+08  1.392446e+09  \n",
       "1           7.1          2015  1.379999e+08  3.481613e+08  \n",
       "2           6.3          2015  1.012000e+08  2.716190e+08  \n",
       "3           7.5          2015  1.839999e+08  1.902723e+09  \n",
       "4           7.3          2015  1.747999e+08  1.385749e+09  \n",
       "\n",
       "[5 rows x 21 columns]"
      ]
     },
     "execution_count": 2,
     "metadata": {},
     "output_type": "execute_result"
    }
   ],
   "source": [
    "# Let's load the data and print out a few lines. \n",
    "\n",
    "df = pd.read_csv('tmdb-movies.csv')\n",
    "df.head()"
   ]
  },
  {
   "cell_type": "code",
   "execution_count": 3,
   "metadata": {},
   "outputs": [
    {
     "data": {
      "text/plain": [
       "(10866, 21)"
      ]
     },
     "execution_count": 3,
     "metadata": {},
     "output_type": "execute_result"
    }
   ],
   "source": [
    "df.shape"
   ]
  },
  {
   "cell_type": "markdown",
   "metadata": {},
   "source": [
    "> There are 21 columns and 10866 rows of information in this data set. \n",
    "\n",
    "> The names of the columns are in lowercase and no spaces in between\n"
   ]
  },
  {
   "cell_type": "code",
   "execution_count": 4,
   "metadata": {},
   "outputs": [
    {
     "data": {
      "text/html": [
       "<div>\n",
       "<style scoped>\n",
       "    .dataframe tbody tr th:only-of-type {\n",
       "        vertical-align: middle;\n",
       "    }\n",
       "\n",
       "    .dataframe tbody tr th {\n",
       "        vertical-align: top;\n",
       "    }\n",
       "\n",
       "    .dataframe thead th {\n",
       "        text-align: right;\n",
       "    }\n",
       "</style>\n",
       "<table border=\"1\" class=\"dataframe\">\n",
       "  <thead>\n",
       "    <tr style=\"text-align: right;\">\n",
       "      <th></th>\n",
       "      <th>id</th>\n",
       "      <th>popularity</th>\n",
       "      <th>budget</th>\n",
       "      <th>revenue</th>\n",
       "      <th>runtime</th>\n",
       "      <th>vote_count</th>\n",
       "      <th>vote_average</th>\n",
       "      <th>release_year</th>\n",
       "      <th>budget_adj</th>\n",
       "      <th>revenue_adj</th>\n",
       "    </tr>\n",
       "  </thead>\n",
       "  <tbody>\n",
       "    <tr>\n",
       "      <th>count</th>\n",
       "      <td>10866.000000</td>\n",
       "      <td>10866.000000</td>\n",
       "      <td>1.086600e+04</td>\n",
       "      <td>1.086600e+04</td>\n",
       "      <td>10866.000000</td>\n",
       "      <td>10866.000000</td>\n",
       "      <td>10866.000000</td>\n",
       "      <td>10866.000000</td>\n",
       "      <td>1.086600e+04</td>\n",
       "      <td>1.086600e+04</td>\n",
       "    </tr>\n",
       "    <tr>\n",
       "      <th>mean</th>\n",
       "      <td>66064.177434</td>\n",
       "      <td>0.646441</td>\n",
       "      <td>1.462570e+07</td>\n",
       "      <td>3.982332e+07</td>\n",
       "      <td>102.070863</td>\n",
       "      <td>217.389748</td>\n",
       "      <td>5.974922</td>\n",
       "      <td>2001.322658</td>\n",
       "      <td>1.755104e+07</td>\n",
       "      <td>5.136436e+07</td>\n",
       "    </tr>\n",
       "    <tr>\n",
       "      <th>std</th>\n",
       "      <td>92130.136561</td>\n",
       "      <td>1.000185</td>\n",
       "      <td>3.091321e+07</td>\n",
       "      <td>1.170035e+08</td>\n",
       "      <td>31.381405</td>\n",
       "      <td>575.619058</td>\n",
       "      <td>0.935142</td>\n",
       "      <td>12.812941</td>\n",
       "      <td>3.430616e+07</td>\n",
       "      <td>1.446325e+08</td>\n",
       "    </tr>\n",
       "    <tr>\n",
       "      <th>min</th>\n",
       "      <td>5.000000</td>\n",
       "      <td>0.000065</td>\n",
       "      <td>0.000000e+00</td>\n",
       "      <td>0.000000e+00</td>\n",
       "      <td>0.000000</td>\n",
       "      <td>10.000000</td>\n",
       "      <td>1.500000</td>\n",
       "      <td>1960.000000</td>\n",
       "      <td>0.000000e+00</td>\n",
       "      <td>0.000000e+00</td>\n",
       "    </tr>\n",
       "    <tr>\n",
       "      <th>25%</th>\n",
       "      <td>10596.250000</td>\n",
       "      <td>0.207583</td>\n",
       "      <td>0.000000e+00</td>\n",
       "      <td>0.000000e+00</td>\n",
       "      <td>90.000000</td>\n",
       "      <td>17.000000</td>\n",
       "      <td>5.400000</td>\n",
       "      <td>1995.000000</td>\n",
       "      <td>0.000000e+00</td>\n",
       "      <td>0.000000e+00</td>\n",
       "    </tr>\n",
       "    <tr>\n",
       "      <th>50%</th>\n",
       "      <td>20669.000000</td>\n",
       "      <td>0.383856</td>\n",
       "      <td>0.000000e+00</td>\n",
       "      <td>0.000000e+00</td>\n",
       "      <td>99.000000</td>\n",
       "      <td>38.000000</td>\n",
       "      <td>6.000000</td>\n",
       "      <td>2006.000000</td>\n",
       "      <td>0.000000e+00</td>\n",
       "      <td>0.000000e+00</td>\n",
       "    </tr>\n",
       "    <tr>\n",
       "      <th>75%</th>\n",
       "      <td>75610.000000</td>\n",
       "      <td>0.713817</td>\n",
       "      <td>1.500000e+07</td>\n",
       "      <td>2.400000e+07</td>\n",
       "      <td>111.000000</td>\n",
       "      <td>145.750000</td>\n",
       "      <td>6.600000</td>\n",
       "      <td>2011.000000</td>\n",
       "      <td>2.085325e+07</td>\n",
       "      <td>3.369710e+07</td>\n",
       "    </tr>\n",
       "    <tr>\n",
       "      <th>max</th>\n",
       "      <td>417859.000000</td>\n",
       "      <td>32.985763</td>\n",
       "      <td>4.250000e+08</td>\n",
       "      <td>2.781506e+09</td>\n",
       "      <td>900.000000</td>\n",
       "      <td>9767.000000</td>\n",
       "      <td>9.200000</td>\n",
       "      <td>2015.000000</td>\n",
       "      <td>4.250000e+08</td>\n",
       "      <td>2.827124e+09</td>\n",
       "    </tr>\n",
       "  </tbody>\n",
       "</table>\n",
       "</div>"
      ],
      "text/plain": [
       "                  id    popularity        budget       revenue       runtime  \\\n",
       "count   10866.000000  10866.000000  1.086600e+04  1.086600e+04  10866.000000   \n",
       "mean    66064.177434      0.646441  1.462570e+07  3.982332e+07    102.070863   \n",
       "std     92130.136561      1.000185  3.091321e+07  1.170035e+08     31.381405   \n",
       "min         5.000000      0.000065  0.000000e+00  0.000000e+00      0.000000   \n",
       "25%     10596.250000      0.207583  0.000000e+00  0.000000e+00     90.000000   \n",
       "50%     20669.000000      0.383856  0.000000e+00  0.000000e+00     99.000000   \n",
       "75%     75610.000000      0.713817  1.500000e+07  2.400000e+07    111.000000   \n",
       "max    417859.000000     32.985763  4.250000e+08  2.781506e+09    900.000000   \n",
       "\n",
       "         vote_count  vote_average  release_year    budget_adj   revenue_adj  \n",
       "count  10866.000000  10866.000000  10866.000000  1.086600e+04  1.086600e+04  \n",
       "mean     217.389748      5.974922   2001.322658  1.755104e+07  5.136436e+07  \n",
       "std      575.619058      0.935142     12.812941  3.430616e+07  1.446325e+08  \n",
       "min       10.000000      1.500000   1960.000000  0.000000e+00  0.000000e+00  \n",
       "25%       17.000000      5.400000   1995.000000  0.000000e+00  0.000000e+00  \n",
       "50%       38.000000      6.000000   2006.000000  0.000000e+00  0.000000e+00  \n",
       "75%      145.750000      6.600000   2011.000000  2.085325e+07  3.369710e+07  \n",
       "max     9767.000000      9.200000   2015.000000  4.250000e+08  2.827124e+09  "
      ]
     },
     "execution_count": 4,
     "metadata": {},
     "output_type": "execute_result"
    }
   ],
   "source": [
    "# Let's perform some operations to inspect data types and look for instances of missing or possibly errant data.\n",
    "\n",
    "df.describe()"
   ]
  },
  {
   "cell_type": "markdown",
   "metadata": {},
   "source": [
    "> We can see that there are some 0 values for 'budget', 'revenue' and 'runtime' that probably means that they didn't record the real values.\n",
    "\n",
    ">There is a movie with a runtime of 900 minutes."
   ]
  },
  {
   "cell_type": "code",
   "execution_count": 5,
   "metadata": {},
   "outputs": [
    {
     "name": "stdout",
     "output_type": "stream",
     "text": [
      "<class 'pandas.core.frame.DataFrame'>\n",
      "RangeIndex: 10866 entries, 0 to 10865\n",
      "Data columns (total 21 columns):\n",
      "id                      10866 non-null int64\n",
      "imdb_id                 10856 non-null object\n",
      "popularity              10866 non-null float64\n",
      "budget                  10866 non-null int64\n",
      "revenue                 10866 non-null int64\n",
      "original_title          10866 non-null object\n",
      "cast                    10790 non-null object\n",
      "homepage                2936 non-null object\n",
      "director                10822 non-null object\n",
      "tagline                 8042 non-null object\n",
      "keywords                9373 non-null object\n",
      "overview                10862 non-null object\n",
      "runtime                 10866 non-null int64\n",
      "genres                  10843 non-null object\n",
      "production_companies    9836 non-null object\n",
      "release_date            10866 non-null object\n",
      "vote_count              10866 non-null int64\n",
      "vote_average            10866 non-null float64\n",
      "release_year            10866 non-null int64\n",
      "budget_adj              10866 non-null float64\n",
      "revenue_adj             10866 non-null float64\n",
      "dtypes: float64(4), int64(6), object(11)\n",
      "memory usage: 1.7+ MB\n"
     ]
    }
   ],
   "source": [
    "# Let's check if the data types are in order.\n",
    "\n",
    "df.info()"
   ]
  },
  {
   "cell_type": "code",
   "execution_count": 6,
   "metadata": {},
   "outputs": [
    {
     "data": {
      "text/plain": [
       "id                         0\n",
       "imdb_id                   10\n",
       "popularity                 0\n",
       "budget                     0\n",
       "revenue                    0\n",
       "original_title             0\n",
       "cast                      76\n",
       "homepage                7930\n",
       "director                  44\n",
       "tagline                 2824\n",
       "keywords                1493\n",
       "overview                   4\n",
       "runtime                    0\n",
       "genres                    23\n",
       "production_companies    1030\n",
       "release_date               0\n",
       "vote_count                 0\n",
       "vote_average               0\n",
       "release_year               0\n",
       "budget_adj                 0\n",
       "revenue_adj                0\n",
       "dtype: int64"
      ]
     },
     "execution_count": 6,
     "metadata": {},
     "output_type": "execute_result"
    }
   ],
   "source": [
    "#Let's check if there is any null data\n",
    "\n",
    "df.isnull().sum()"
   ]
  },
  {
   "cell_type": "markdown",
   "metadata": {},
   "source": [
    ">There are some null values in 'imdb_id', 'cast', 'homepage', 'director', 'tagline', 'keywords', 'overview', 'genres'and 'production_companies'\n",
    "\n",
    "> We can see that 'release_year' should be a date, but we can use the column 'realese_year' for our analysis.\n",
    "\n",
    "> We can observe that the columns 'budget' and 'revenue' are integers but the 'budget_adj' and 'revenue_adj' are floats. That's because they are adjusted in terms of 2010 dollars, accounting for inflation over time, so we can use the adjusted columns to compare budgets and revenues from different years.\n",
    "\n"
   ]
  },
  {
   "cell_type": "code",
   "execution_count": 7,
   "metadata": {},
   "outputs": [
    {
     "data": {
      "text/plain": [
       "1"
      ]
     },
     "execution_count": 7,
     "metadata": {},
     "output_type": "execute_result"
    }
   ],
   "source": [
    "# Let's check for duplicated data\n",
    "\n",
    "df.duplicated().sum()"
   ]
  },
  {
   "cell_type": "markdown",
   "metadata": {},
   "source": [
    "> There is 1 row of duplicated data."
   ]
  },
  {
   "cell_type": "code",
   "execution_count": 8,
   "metadata": {},
   "outputs": [
    {
     "data": {
      "text/plain": [
       "id                      10865\n",
       "imdb_id                 10855\n",
       "popularity              10814\n",
       "budget                    557\n",
       "revenue                  4702\n",
       "original_title          10571\n",
       "cast                    10719\n",
       "homepage                 2896\n",
       "director                 5067\n",
       "tagline                  7997\n",
       "keywords                 8804\n",
       "overview                10847\n",
       "runtime                   247\n",
       "genres                   2039\n",
       "production_companies     7445\n",
       "release_date             5909\n",
       "vote_count               1289\n",
       "vote_average               72\n",
       "release_year               56\n",
       "budget_adj               2614\n",
       "revenue_adj              4840\n",
       "dtype: int64"
      ]
     },
     "execution_count": 8,
     "metadata": {},
     "output_type": "execute_result"
    }
   ],
   "source": [
    "# Let's check how many unique values are for each column.\n",
    "\n",
    "df.nunique()"
   ]
  },
  {
   "cell_type": "code",
   "execution_count": null,
   "metadata": {},
   "outputs": [],
   "source": []
  },
  {
   "cell_type": "markdown",
   "metadata": {},
   "source": [
    "### Question that can be answer: \n",
    "\n",
    ">Which movie had the highest and lowest budget?\n",
    "\n",
    ">Which movie had the highest and lowest revenue?\n",
    "\n",
    ">Which movie had the highest and lowest runtime, and which is the mean runtime?\n",
    "\n",
    ">Which movie had the highest and lowest vote average?\n",
    "\n",
    ">Which is the most popular genre?\n",
    "\n",
    ">Which is the most popular cast member?"
   ]
  },
  {
   "cell_type": "markdown",
   "metadata": {},
   "source": [
    "### Cleaning that needs to be performed:\n",
    "\n",
    ">1) Remove the columns 'id', 'popularity','homepage', 'keywords','tagline', 'overview', 'release_date'.\n",
    "\n",
    ">2) Delete the duplicated row.\n",
    "\n",
    ">3) Delete the rows that have 0 values for 'budget', 'revenue' and 'runtime', and the row with the 900 min for 'runtime'\n",
    "\n",
    ">4) Delete null values that remains in the dataset.\n"
   ]
  },
  {
   "cell_type": "markdown",
   "metadata": {},
   "source": [
    "\n",
    "### Data Cleaning "
   ]
  },
  {
   "cell_type": "markdown",
   "metadata": {
    "collapsed": true
   },
   "source": [
    ">In this section we will clean the data following the steps we discussed before.\n"
   ]
  },
  {
   "cell_type": "code",
   "execution_count": 9,
   "metadata": {},
   "outputs": [
    {
     "data": {
      "text/html": [
       "<div>\n",
       "<style scoped>\n",
       "    .dataframe tbody tr th:only-of-type {\n",
       "        vertical-align: middle;\n",
       "    }\n",
       "\n",
       "    .dataframe tbody tr th {\n",
       "        vertical-align: top;\n",
       "    }\n",
       "\n",
       "    .dataframe thead th {\n",
       "        text-align: right;\n",
       "    }\n",
       "</style>\n",
       "<table border=\"1\" class=\"dataframe\">\n",
       "  <thead>\n",
       "    <tr style=\"text-align: right;\">\n",
       "      <th></th>\n",
       "      <th>imdb_id</th>\n",
       "      <th>budget</th>\n",
       "      <th>revenue</th>\n",
       "      <th>original_title</th>\n",
       "      <th>cast</th>\n",
       "      <th>director</th>\n",
       "      <th>runtime</th>\n",
       "      <th>genres</th>\n",
       "      <th>production_companies</th>\n",
       "      <th>vote_count</th>\n",
       "      <th>vote_average</th>\n",
       "      <th>release_year</th>\n",
       "      <th>budget_adj</th>\n",
       "      <th>revenue_adj</th>\n",
       "    </tr>\n",
       "  </thead>\n",
       "  <tbody>\n",
       "    <tr>\n",
       "      <th>0</th>\n",
       "      <td>tt0369610</td>\n",
       "      <td>150000000</td>\n",
       "      <td>1513528810</td>\n",
       "      <td>Jurassic World</td>\n",
       "      <td>Chris Pratt|Bryce Dallas Howard|Irrfan Khan|Vi...</td>\n",
       "      <td>Colin Trevorrow</td>\n",
       "      <td>124</td>\n",
       "      <td>Action|Adventure|Science Fiction|Thriller</td>\n",
       "      <td>Universal Studios|Amblin Entertainment|Legenda...</td>\n",
       "      <td>5562</td>\n",
       "      <td>6.5</td>\n",
       "      <td>2015</td>\n",
       "      <td>1.379999e+08</td>\n",
       "      <td>1.392446e+09</td>\n",
       "    </tr>\n",
       "    <tr>\n",
       "      <th>1</th>\n",
       "      <td>tt1392190</td>\n",
       "      <td>150000000</td>\n",
       "      <td>378436354</td>\n",
       "      <td>Mad Max: Fury Road</td>\n",
       "      <td>Tom Hardy|Charlize Theron|Hugh Keays-Byrne|Nic...</td>\n",
       "      <td>George Miller</td>\n",
       "      <td>120</td>\n",
       "      <td>Action|Adventure|Science Fiction|Thriller</td>\n",
       "      <td>Village Roadshow Pictures|Kennedy Miller Produ...</td>\n",
       "      <td>6185</td>\n",
       "      <td>7.1</td>\n",
       "      <td>2015</td>\n",
       "      <td>1.379999e+08</td>\n",
       "      <td>3.481613e+08</td>\n",
       "    </tr>\n",
       "    <tr>\n",
       "      <th>2</th>\n",
       "      <td>tt2908446</td>\n",
       "      <td>110000000</td>\n",
       "      <td>295238201</td>\n",
       "      <td>Insurgent</td>\n",
       "      <td>Shailene Woodley|Theo James|Kate Winslet|Ansel...</td>\n",
       "      <td>Robert Schwentke</td>\n",
       "      <td>119</td>\n",
       "      <td>Adventure|Science Fiction|Thriller</td>\n",
       "      <td>Summit Entertainment|Mandeville Films|Red Wago...</td>\n",
       "      <td>2480</td>\n",
       "      <td>6.3</td>\n",
       "      <td>2015</td>\n",
       "      <td>1.012000e+08</td>\n",
       "      <td>2.716190e+08</td>\n",
       "    </tr>\n",
       "    <tr>\n",
       "      <th>3</th>\n",
       "      <td>tt2488496</td>\n",
       "      <td>200000000</td>\n",
       "      <td>2068178225</td>\n",
       "      <td>Star Wars: The Force Awakens</td>\n",
       "      <td>Harrison Ford|Mark Hamill|Carrie Fisher|Adam D...</td>\n",
       "      <td>J.J. Abrams</td>\n",
       "      <td>136</td>\n",
       "      <td>Action|Adventure|Science Fiction|Fantasy</td>\n",
       "      <td>Lucasfilm|Truenorth Productions|Bad Robot</td>\n",
       "      <td>5292</td>\n",
       "      <td>7.5</td>\n",
       "      <td>2015</td>\n",
       "      <td>1.839999e+08</td>\n",
       "      <td>1.902723e+09</td>\n",
       "    </tr>\n",
       "    <tr>\n",
       "      <th>4</th>\n",
       "      <td>tt2820852</td>\n",
       "      <td>190000000</td>\n",
       "      <td>1506249360</td>\n",
       "      <td>Furious 7</td>\n",
       "      <td>Vin Diesel|Paul Walker|Jason Statham|Michelle ...</td>\n",
       "      <td>James Wan</td>\n",
       "      <td>137</td>\n",
       "      <td>Action|Crime|Thriller</td>\n",
       "      <td>Universal Pictures|Original Film|Media Rights ...</td>\n",
       "      <td>2947</td>\n",
       "      <td>7.3</td>\n",
       "      <td>2015</td>\n",
       "      <td>1.747999e+08</td>\n",
       "      <td>1.385749e+09</td>\n",
       "    </tr>\n",
       "  </tbody>\n",
       "</table>\n",
       "</div>"
      ],
      "text/plain": [
       "     imdb_id     budget     revenue                original_title  \\\n",
       "0  tt0369610  150000000  1513528810                Jurassic World   \n",
       "1  tt1392190  150000000   378436354            Mad Max: Fury Road   \n",
       "2  tt2908446  110000000   295238201                     Insurgent   \n",
       "3  tt2488496  200000000  2068178225  Star Wars: The Force Awakens   \n",
       "4  tt2820852  190000000  1506249360                     Furious 7   \n",
       "\n",
       "                                                cast          director  \\\n",
       "0  Chris Pratt|Bryce Dallas Howard|Irrfan Khan|Vi...   Colin Trevorrow   \n",
       "1  Tom Hardy|Charlize Theron|Hugh Keays-Byrne|Nic...     George Miller   \n",
       "2  Shailene Woodley|Theo James|Kate Winslet|Ansel...  Robert Schwentke   \n",
       "3  Harrison Ford|Mark Hamill|Carrie Fisher|Adam D...       J.J. Abrams   \n",
       "4  Vin Diesel|Paul Walker|Jason Statham|Michelle ...         James Wan   \n",
       "\n",
       "   runtime                                     genres  \\\n",
       "0      124  Action|Adventure|Science Fiction|Thriller   \n",
       "1      120  Action|Adventure|Science Fiction|Thriller   \n",
       "2      119         Adventure|Science Fiction|Thriller   \n",
       "3      136   Action|Adventure|Science Fiction|Fantasy   \n",
       "4      137                      Action|Crime|Thriller   \n",
       "\n",
       "                                production_companies  vote_count  \\\n",
       "0  Universal Studios|Amblin Entertainment|Legenda...        5562   \n",
       "1  Village Roadshow Pictures|Kennedy Miller Produ...        6185   \n",
       "2  Summit Entertainment|Mandeville Films|Red Wago...        2480   \n",
       "3          Lucasfilm|Truenorth Productions|Bad Robot        5292   \n",
       "4  Universal Pictures|Original Film|Media Rights ...        2947   \n",
       "\n",
       "   vote_average  release_year    budget_adj   revenue_adj  \n",
       "0           6.5          2015  1.379999e+08  1.392446e+09  \n",
       "1           7.1          2015  1.379999e+08  3.481613e+08  \n",
       "2           6.3          2015  1.012000e+08  2.716190e+08  \n",
       "3           7.5          2015  1.839999e+08  1.902723e+09  \n",
       "4           7.3          2015  1.747999e+08  1.385749e+09  "
      ]
     },
     "execution_count": 9,
     "metadata": {},
     "output_type": "execute_result"
    }
   ],
   "source": [
    "# Remove the columns that we don't need \n",
    "df.drop(['id', 'popularity','homepage', 'keywords','tagline', 'overview', 'release_date'], axis=1, inplace=True)\n",
    "# Let's see if the drop worked \n",
    "df.head()"
   ]
  },
  {
   "cell_type": "code",
   "execution_count": 10,
   "metadata": {},
   "outputs": [
    {
     "data": {
      "text/plain": [
       "(10865, 14)"
      ]
     },
     "execution_count": 10,
     "metadata": {},
     "output_type": "execute_result"
    }
   ],
   "source": [
    "# Now we will drop the duplicated row\n",
    "df.drop_duplicates(inplace=True)\n",
    "df.shape"
   ]
  },
  {
   "cell_type": "code",
   "execution_count": 11,
   "metadata": {},
   "outputs": [
    {
     "data": {
      "text/html": [
       "<div>\n",
       "<style scoped>\n",
       "    .dataframe tbody tr th:only-of-type {\n",
       "        vertical-align: middle;\n",
       "    }\n",
       "\n",
       "    .dataframe tbody tr th {\n",
       "        vertical-align: top;\n",
       "    }\n",
       "\n",
       "    .dataframe thead th {\n",
       "        text-align: right;\n",
       "    }\n",
       "</style>\n",
       "<table border=\"1\" class=\"dataframe\">\n",
       "  <thead>\n",
       "    <tr style=\"text-align: right;\">\n",
       "      <th></th>\n",
       "      <th>budget</th>\n",
       "      <th>revenue</th>\n",
       "      <th>runtime</th>\n",
       "      <th>vote_count</th>\n",
       "      <th>vote_average</th>\n",
       "      <th>release_year</th>\n",
       "      <th>budget_adj</th>\n",
       "      <th>revenue_adj</th>\n",
       "    </tr>\n",
       "  </thead>\n",
       "  <tbody>\n",
       "    <tr>\n",
       "      <th>count</th>\n",
       "      <td>3.854000e+03</td>\n",
       "      <td>3.854000e+03</td>\n",
       "      <td>3854.000000</td>\n",
       "      <td>3854.000000</td>\n",
       "      <td>3854.000000</td>\n",
       "      <td>3854.000000</td>\n",
       "      <td>3.854000e+03</td>\n",
       "      <td>3.854000e+03</td>\n",
       "    </tr>\n",
       "    <tr>\n",
       "      <th>mean</th>\n",
       "      <td>3.720370e+07</td>\n",
       "      <td>1.076866e+08</td>\n",
       "      <td>109.220291</td>\n",
       "      <td>527.720291</td>\n",
       "      <td>6.168163</td>\n",
       "      <td>2001.261028</td>\n",
       "      <td>4.423999e+07</td>\n",
       "      <td>1.370647e+08</td>\n",
       "    </tr>\n",
       "    <tr>\n",
       "      <th>std</th>\n",
       "      <td>4.220822e+07</td>\n",
       "      <td>1.765393e+08</td>\n",
       "      <td>19.922820</td>\n",
       "      <td>879.956821</td>\n",
       "      <td>0.794920</td>\n",
       "      <td>11.282575</td>\n",
       "      <td>4.480925e+07</td>\n",
       "      <td>2.161114e+08</td>\n",
       "    </tr>\n",
       "    <tr>\n",
       "      <th>min</th>\n",
       "      <td>1.000000e+00</td>\n",
       "      <td>2.000000e+00</td>\n",
       "      <td>15.000000</td>\n",
       "      <td>10.000000</td>\n",
       "      <td>2.200000</td>\n",
       "      <td>1960.000000</td>\n",
       "      <td>9.693980e-01</td>\n",
       "      <td>2.370705e+00</td>\n",
       "    </tr>\n",
       "    <tr>\n",
       "      <th>25%</th>\n",
       "      <td>1.000000e+07</td>\n",
       "      <td>1.360003e+07</td>\n",
       "      <td>95.000000</td>\n",
       "      <td>71.000000</td>\n",
       "      <td>5.700000</td>\n",
       "      <td>1995.000000</td>\n",
       "      <td>1.309053e+07</td>\n",
       "      <td>1.835735e+07</td>\n",
       "    </tr>\n",
       "    <tr>\n",
       "      <th>50%</th>\n",
       "      <td>2.400000e+07</td>\n",
       "      <td>4.480000e+07</td>\n",
       "      <td>106.000000</td>\n",
       "      <td>204.000000</td>\n",
       "      <td>6.200000</td>\n",
       "      <td>2004.000000</td>\n",
       "      <td>3.001611e+07</td>\n",
       "      <td>6.173068e+07</td>\n",
       "    </tr>\n",
       "    <tr>\n",
       "      <th>75%</th>\n",
       "      <td>5.000000e+07</td>\n",
       "      <td>1.242125e+08</td>\n",
       "      <td>119.000000</td>\n",
       "      <td>580.000000</td>\n",
       "      <td>6.700000</td>\n",
       "      <td>2010.000000</td>\n",
       "      <td>6.061307e+07</td>\n",
       "      <td>1.632577e+08</td>\n",
       "    </tr>\n",
       "    <tr>\n",
       "      <th>max</th>\n",
       "      <td>4.250000e+08</td>\n",
       "      <td>2.781506e+09</td>\n",
       "      <td>338.000000</td>\n",
       "      <td>9767.000000</td>\n",
       "      <td>8.400000</td>\n",
       "      <td>2015.000000</td>\n",
       "      <td>4.250000e+08</td>\n",
       "      <td>2.827124e+09</td>\n",
       "    </tr>\n",
       "  </tbody>\n",
       "</table>\n",
       "</div>"
      ],
      "text/plain": [
       "             budget       revenue      runtime   vote_count  vote_average  \\\n",
       "count  3.854000e+03  3.854000e+03  3854.000000  3854.000000   3854.000000   \n",
       "mean   3.720370e+07  1.076866e+08   109.220291   527.720291      6.168163   \n",
       "std    4.220822e+07  1.765393e+08    19.922820   879.956821      0.794920   \n",
       "min    1.000000e+00  2.000000e+00    15.000000    10.000000      2.200000   \n",
       "25%    1.000000e+07  1.360003e+07    95.000000    71.000000      5.700000   \n",
       "50%    2.400000e+07  4.480000e+07   106.000000   204.000000      6.200000   \n",
       "75%    5.000000e+07  1.242125e+08   119.000000   580.000000      6.700000   \n",
       "max    4.250000e+08  2.781506e+09   338.000000  9767.000000      8.400000   \n",
       "\n",
       "       release_year    budget_adj   revenue_adj  \n",
       "count   3854.000000  3.854000e+03  3.854000e+03  \n",
       "mean    2001.261028  4.423999e+07  1.370647e+08  \n",
       "std       11.282575  4.480925e+07  2.161114e+08  \n",
       "min     1960.000000  9.693980e-01  2.370705e+00  \n",
       "25%     1995.000000  1.309053e+07  1.835735e+07  \n",
       "50%     2004.000000  3.001611e+07  6.173068e+07  \n",
       "75%     2010.000000  6.061307e+07  1.632577e+08  \n",
       "max     2015.000000  4.250000e+08  2.827124e+09  "
      ]
     },
     "execution_count": 11,
     "metadata": {},
     "output_type": "execute_result"
    }
   ],
   "source": [
    "# Replace 0 with NAN values so we can drop them\n",
    "col = ['budget', 'revenue', 'runtime']\n",
    "df[col] = df[col].replace(0, np.NaN)\n",
    "# Drop the NAN values\n",
    "df.dropna(subset = col, inplace = True)\n",
    "df.describe()\n",
    "\n"
   ]
  },
  {
   "cell_type": "code",
   "execution_count": 12,
   "metadata": {},
   "outputs": [
    {
     "data": {
      "text/plain": [
       "(3854, 14)"
      ]
     },
     "execution_count": 12,
     "metadata": {},
     "output_type": "execute_result"
    }
   ],
   "source": [
    "df.shape"
   ]
  },
  {
   "cell_type": "code",
   "execution_count": 13,
   "metadata": {},
   "outputs": [
    {
     "data": {
      "text/plain": [
       "(3805, 14)"
      ]
     },
     "execution_count": 13,
     "metadata": {},
     "output_type": "execute_result"
    }
   ],
   "source": [
    "# We will drop the null rows from the data if there's any left\n",
    "df.dropna(inplace=True)\n",
    "df.shape"
   ]
  },
  {
   "cell_type": "markdown",
   "metadata": {},
   "source": [
    "<a id='eda'></a>\n",
    "## Exploratory Data Analysis\n",
    "\n",
    "> In this section we will compute statistics and create visualizations to help answer the questions.\n",
    "\n",
    "### Research Question 1: Which movie had the highest and lowest budget?"
   ]
  },
  {
   "cell_type": "code",
   "execution_count": 14,
   "metadata": {},
   "outputs": [
    {
     "data": {
      "text/plain": [
       "count    3.805000e+03\n",
       "mean     4.471977e+07\n",
       "std      4.488697e+07\n",
       "min      9.693980e-01\n",
       "25%      1.354637e+07\n",
       "50%      3.038360e+07\n",
       "75%      6.084153e+07\n",
       "max      4.250000e+08\n",
       "Name: budget_adj, dtype: float64"
      ]
     },
     "execution_count": 14,
     "metadata": {},
     "output_type": "execute_result"
    }
   ],
   "source": [
    "# Describe the data\n",
    "df['budget_adj'].describe()"
   ]
  },
  {
   "cell_type": "code",
   "execution_count": 15,
   "metadata": {},
   "outputs": [
    {
     "data": {
      "text/plain": [
       "imdb_id                                                         tt1032751\n",
       "budget                                                           4.25e+08\n",
       "revenue                                                       1.10876e+07\n",
       "original_title                                          The Warrior's Way\n",
       "cast                    Kate Bosworth|Jang Dong-gun|Geoffrey Rush|Dann...\n",
       "director                                                       Sngmoo Lee\n",
       "runtime                                                               100\n",
       "genres                          Adventure|Fantasy|Action|Western|Thriller\n",
       "production_companies                             Boram Entertainment Inc.\n",
       "vote_count                                                             74\n",
       "vote_average                                                          6.4\n",
       "release_year                                                         2010\n",
       "budget_adj                                                       4.25e+08\n",
       "revenue_adj                                                   1.10876e+07\n",
       "Name: 2244, dtype: object"
      ]
     },
     "execution_count": 15,
     "metadata": {},
     "output_type": "execute_result"
    }
   ],
   "source": [
    "#Select the movie with the maximum budget from the budget_adj\n",
    "df.loc[df['budget_adj'].idxmax()]"
   ]
  },
  {
   "cell_type": "markdown",
   "metadata": {},
   "source": [
    "> The movie that had the highest budget was 'The Warrior's Way', lunched in 2010 with a budget of $42 million."
   ]
  },
  {
   "cell_type": "code",
   "execution_count": 16,
   "metadata": {},
   "outputs": [
    {
     "data": {
      "text/plain": [
       "imdb_id                                                         tt1436559\n",
       "budget                                                                  1\n",
       "revenue                                                              1378\n",
       "original_title                                    Love, Wedding, Marriage\n",
       "cast                    Mandy Moore|Kellan Lutz|Jessica Szohr|Autumn F...\n",
       "director                                                  Dermot Mulroney\n",
       "runtime                                                                90\n",
       "genres                                                     Comedy|Romance\n",
       "production_companies    120dB Films|Scion Films|Voodoo Production Serv...\n",
       "vote_count                                                             55\n",
       "vote_average                                                          5.3\n",
       "release_year                                                         2011\n",
       "budget_adj                                                       0.969398\n",
       "revenue_adj                                                       1335.83\n",
       "Name: 3581, dtype: object"
      ]
     },
     "execution_count": 16,
     "metadata": {},
     "output_type": "execute_result"
    }
   ],
   "source": [
    "#Select the movie with the minimum budget from the budget_adj\n",
    "df.loc[df['budget_adj'].idxmin()]"
   ]
  },
  {
   "cell_type": "markdown",
   "metadata": {},
   "source": [
    "> The movie that had the lowest budget was 'Love, Wedding, Marriage', lunched in 2011 with a budget of $1 million."
   ]
  },
  {
   "cell_type": "markdown",
   "metadata": {},
   "source": [
    "### Research Question 2: Which movie had the highest and lowest revenue?"
   ]
  },
  {
   "cell_type": "code",
   "execution_count": 17,
   "metadata": {},
   "outputs": [
    {
     "data": {
      "text/plain": [
       "count    3.805000e+03\n",
       "mean     1.387159e+08\n",
       "std      2.169973e+08\n",
       "min      2.370705e+00\n",
       "25%      1.925371e+07\n",
       "50%      6.284688e+07\n",
       "75%      1.658054e+08\n",
       "max      2.827124e+09\n",
       "Name: revenue_adj, dtype: float64"
      ]
     },
     "execution_count": 17,
     "metadata": {},
     "output_type": "execute_result"
    }
   ],
   "source": [
    "# Describe the data\n",
    "df['revenue_adj'].describe()"
   ]
  },
  {
   "cell_type": "code",
   "execution_count": 18,
   "metadata": {},
   "outputs": [
    {
     "data": {
      "text/plain": [
       "imdb_id                                                         tt0499549\n",
       "budget                                                           2.37e+08\n",
       "revenue                                                       2.78151e+09\n",
       "original_title                                                     Avatar\n",
       "cast                    Sam Worthington|Zoe Saldana|Sigourney Weaver|S...\n",
       "director                                                    James Cameron\n",
       "runtime                                                               162\n",
       "genres                           Action|Adventure|Fantasy|Science Fiction\n",
       "production_companies    Ingenious Film Partners|Twentieth Century Fox ...\n",
       "vote_count                                                           8458\n",
       "vote_average                                                          7.1\n",
       "release_year                                                         2009\n",
       "budget_adj                                                    2.40887e+08\n",
       "revenue_adj                                                   2.82712e+09\n",
       "Name: 1386, dtype: object"
      ]
     },
     "execution_count": 18,
     "metadata": {},
     "output_type": "execute_result"
    }
   ],
   "source": [
    "#Select the movie with the maximum revenue from the revenue_adj\n",
    "df.loc[df['revenue_adj'].idxmax()]"
   ]
  },
  {
   "cell_type": "markdown",
   "metadata": {},
   "source": [
    "> The movie that had the highest revenue was 'Avatar', lunched in 2009 with a revenue of $2.7 billion."
   ]
  },
  {
   "cell_type": "code",
   "execution_count": 19,
   "metadata": {},
   "outputs": [
    {
     "data": {
      "text/plain": [
       "imdb_id                                                         tt0323944\n",
       "budget                                                              6e+06\n",
       "revenue                                                                 2\n",
       "original_title                                            Shattered Glass\n",
       "cast                    Hayden Christensen|Peter Sarsgaard|ChloÃ« Sevi...\n",
       "director                                                        Billy Ray\n",
       "runtime                                                                94\n",
       "genres                                                      Drama|History\n",
       "production_companies    Lions Gate Films|Cruise/Wagner Productions|Bau...\n",
       "vote_count                                                             46\n",
       "vote_average                                                          6.4\n",
       "release_year                                                         2003\n",
       "budget_adj                                                    7.11212e+06\n",
       "revenue_adj                                                       2.37071\n",
       "Name: 5067, dtype: object"
      ]
     },
     "execution_count": 19,
     "metadata": {},
     "output_type": "execute_result"
    }
   ],
   "source": [
    "#Select the movie with the minimum revenue from the revenue_adj\n",
    "df.loc[df['revenue_adj'].idxmin()]"
   ]
  },
  {
   "cell_type": "markdown",
   "metadata": {},
   "source": [
    ">The movie that had the lowest revenue was 'Shattered Glass', lunched in 2003 with a revenue of $2."
   ]
  },
  {
   "cell_type": "code",
   "execution_count": 20,
   "metadata": {},
   "outputs": [
    {
     "data": {
      "image/png": "[encoded data removed]",
      "text/plain": [
       "<matplotlib.figure.Figure at 0x7f3dd35a4978>"
      ]
     },
     "metadata": {
      "needs_background": "light"
     },
     "output_type": "display_data"
    }
   ],
   "source": [
    "#Let's see if there's any relation between budget and revenue\n",
    "\n",
    "# Title \n",
    "plt.title('Relation between budget and revenue')\n",
    "# Name the x-axis\n",
    "plt.xlabel('Budget')\n",
    "# Name the y-axis\n",
    "plt.ylabel('Revenue')\n",
    "\n",
    "plt.scatter(df['budget_adj'], df['revenue_adj'], alpha=0.5)\n",
    "plt.show()"
   ]
  },
  {
   "cell_type": "code",
   "execution_count": 21,
   "metadata": {},
   "outputs": [
    {
     "data": {
      "text/html": [
       "<div>\n",
       "<style scoped>\n",
       "    .dataframe tbody tr th:only-of-type {\n",
       "        vertical-align: middle;\n",
       "    }\n",
       "\n",
       "    .dataframe tbody tr th {\n",
       "        vertical-align: top;\n",
       "    }\n",
       "\n",
       "    .dataframe thead th {\n",
       "        text-align: right;\n",
       "    }\n",
       "</style>\n",
       "<table border=\"1\" class=\"dataframe\">\n",
       "  <thead>\n",
       "    <tr style=\"text-align: right;\">\n",
       "      <th></th>\n",
       "      <th>budget</th>\n",
       "      <th>revenue</th>\n",
       "      <th>runtime</th>\n",
       "      <th>vote_count</th>\n",
       "      <th>vote_average</th>\n",
       "      <th>release_year</th>\n",
       "      <th>budget_adj</th>\n",
       "      <th>revenue_adj</th>\n",
       "    </tr>\n",
       "  </thead>\n",
       "  <tbody>\n",
       "    <tr>\n",
       "      <th>budget</th>\n",
       "      <td>1.000000</td>\n",
       "      <td>0.687059</td>\n",
       "      <td>0.259562</td>\n",
       "      <td>0.554689</td>\n",
       "      <td>0.022945</td>\n",
       "      <td>0.271915</td>\n",
       "      <td>0.958235</td>\n",
       "      <td>0.530941</td>\n",
       "    </tr>\n",
       "    <tr>\n",
       "      <th>revenue</th>\n",
       "      <td>0.687059</td>\n",
       "      <td>1.000000</td>\n",
       "      <td>0.249178</td>\n",
       "      <td>0.753574</td>\n",
       "      <td>0.228051</td>\n",
       "      <td>0.141317</td>\n",
       "      <td>0.655872</td>\n",
       "      <td>0.900449</td>\n",
       "    </tr>\n",
       "    <tr>\n",
       "      <th>runtime</th>\n",
       "      <td>0.259562</td>\n",
       "      <td>0.249178</td>\n",
       "      <td>1.000000</td>\n",
       "      <td>0.273464</td>\n",
       "      <td>0.359173</td>\n",
       "      <td>-0.113488</td>\n",
       "      <td>0.333453</td>\n",
       "      <td>0.279733</td>\n",
       "    </tr>\n",
       "    <tr>\n",
       "      <th>vote_count</th>\n",
       "      <td>0.554689</td>\n",
       "      <td>0.753574</td>\n",
       "      <td>0.273464</td>\n",
       "      <td>1.000000</td>\n",
       "      <td>0.389853</td>\n",
       "      <td>0.209688</td>\n",
       "      <td>0.495209</td>\n",
       "      <td>0.653202</td>\n",
       "    </tr>\n",
       "    <tr>\n",
       "      <th>vote_average</th>\n",
       "      <td>0.022945</td>\n",
       "      <td>0.228051</td>\n",
       "      <td>0.359173</td>\n",
       "      <td>0.389853</td>\n",
       "      <td>1.000000</td>\n",
       "      <td>-0.135646</td>\n",
       "      <td>0.035798</td>\n",
       "      <td>0.268227</td>\n",
       "    </tr>\n",
       "    <tr>\n",
       "      <th>release_year</th>\n",
       "      <td>0.271915</td>\n",
       "      <td>0.141317</td>\n",
       "      <td>-0.113488</td>\n",
       "      <td>0.209688</td>\n",
       "      <td>-0.135646</td>\n",
       "      <td>1.000000</td>\n",
       "      <td>0.078378</td>\n",
       "      <td>-0.101931</td>\n",
       "    </tr>\n",
       "    <tr>\n",
       "      <th>budget_adj</th>\n",
       "      <td>0.958235</td>\n",
       "      <td>0.655872</td>\n",
       "      <td>0.333453</td>\n",
       "      <td>0.495209</td>\n",
       "      <td>0.035798</td>\n",
       "      <td>0.078378</td>\n",
       "      <td>1.000000</td>\n",
       "      <td>0.567983</td>\n",
       "    </tr>\n",
       "    <tr>\n",
       "      <th>revenue_adj</th>\n",
       "      <td>0.530941</td>\n",
       "      <td>0.900449</td>\n",
       "      <td>0.279733</td>\n",
       "      <td>0.653202</td>\n",
       "      <td>0.268227</td>\n",
       "      <td>-0.101931</td>\n",
       "      <td>0.567983</td>\n",
       "      <td>1.000000</td>\n",
       "    </tr>\n",
       "  </tbody>\n",
       "</table>\n",
       "</div>"
      ],
      "text/plain": [
       "                budget   revenue   runtime  vote_count  vote_average  \\\n",
       "budget        1.000000  0.687059  0.259562    0.554689      0.022945   \n",
       "revenue       0.687059  1.000000  0.249178    0.753574      0.228051   \n",
       "runtime       0.259562  0.249178  1.000000    0.273464      0.359173   \n",
       "vote_count    0.554689  0.753574  0.273464    1.000000      0.389853   \n",
       "vote_average  0.022945  0.228051  0.359173    0.389853      1.000000   \n",
       "release_year  0.271915  0.141317 -0.113488    0.209688     -0.135646   \n",
       "budget_adj    0.958235  0.655872  0.333453    0.495209      0.035798   \n",
       "revenue_adj   0.530941  0.900449  0.279733    0.653202      0.268227   \n",
       "\n",
       "              release_year  budget_adj  revenue_adj  \n",
       "budget            0.271915    0.958235     0.530941  \n",
       "revenue           0.141317    0.655872     0.900449  \n",
       "runtime          -0.113488    0.333453     0.279733  \n",
       "vote_count        0.209688    0.495209     0.653202  \n",
       "vote_average     -0.135646    0.035798     0.268227  \n",
       "release_year      1.000000    0.078378    -0.101931  \n",
       "budget_adj        0.078378    1.000000     0.567983  \n",
       "revenue_adj      -0.101931    0.567983     1.000000  "
      ]
     },
     "execution_count": 21,
     "metadata": {},
     "output_type": "execute_result"
    }
   ],
   "source": [
    "#correlación con método pearson\n",
    "df.corr(method ='pearson') "
   ]
  },
  {
   "cell_type": "code",
   "execution_count": 22,
   "metadata": {},
   "outputs": [
    {
     "data": {
      "text/html": [
       "<div>\n",
       "<style scoped>\n",
       "    .dataframe tbody tr th:only-of-type {\n",
       "        vertical-align: middle;\n",
       "    }\n",
       "\n",
       "    .dataframe tbody tr th {\n",
       "        vertical-align: top;\n",
       "    }\n",
       "\n",
       "    .dataframe thead th {\n",
       "        text-align: right;\n",
       "    }\n",
       "</style>\n",
       "<table border=\"1\" class=\"dataframe\">\n",
       "  <thead>\n",
       "    <tr style=\"text-align: right;\">\n",
       "      <th></th>\n",
       "      <th>budget</th>\n",
       "      <th>revenue</th>\n",
       "      <th>runtime</th>\n",
       "      <th>vote_count</th>\n",
       "      <th>vote_average</th>\n",
       "      <th>release_year</th>\n",
       "      <th>budget_adj</th>\n",
       "      <th>revenue_adj</th>\n",
       "    </tr>\n",
       "  </thead>\n",
       "  <tbody>\n",
       "    <tr>\n",
       "      <th>budget</th>\n",
       "      <td>1.000000</td>\n",
       "      <td>0.486658</td>\n",
       "      <td>0.196169</td>\n",
       "      <td>0.354909</td>\n",
       "      <td>-0.041971</td>\n",
       "      <td>0.157652</td>\n",
       "      <td>0.834499</td>\n",
       "      <td>0.416835</td>\n",
       "    </tr>\n",
       "    <tr>\n",
       "      <th>revenue</th>\n",
       "      <td>0.486658</td>\n",
       "      <td>1.000000</td>\n",
       "      <td>0.173685</td>\n",
       "      <td>0.540418</td>\n",
       "      <td>0.133446</td>\n",
       "      <td>0.055634</td>\n",
       "      <td>0.484026</td>\n",
       "      <td>0.864619</td>\n",
       "    </tr>\n",
       "    <tr>\n",
       "      <th>runtime</th>\n",
       "      <td>0.196169</td>\n",
       "      <td>0.173685</td>\n",
       "      <td>1.000000</td>\n",
       "      <td>0.143596</td>\n",
       "      <td>0.254691</td>\n",
       "      <td>-0.030855</td>\n",
       "      <td>0.235558</td>\n",
       "      <td>0.192371</td>\n",
       "    </tr>\n",
       "    <tr>\n",
       "      <th>vote_count</th>\n",
       "      <td>0.354909</td>\n",
       "      <td>0.540418</td>\n",
       "      <td>0.143596</td>\n",
       "      <td>1.000000</td>\n",
       "      <td>0.270571</td>\n",
       "      <td>0.222355</td>\n",
       "      <td>0.309665</td>\n",
       "      <td>0.480811</td>\n",
       "    </tr>\n",
       "    <tr>\n",
       "      <th>vote_average</th>\n",
       "      <td>-0.041971</td>\n",
       "      <td>0.133446</td>\n",
       "      <td>0.254691</td>\n",
       "      <td>0.270571</td>\n",
       "      <td>1.000000</td>\n",
       "      <td>-0.064157</td>\n",
       "      <td>-0.007567</td>\n",
       "      <td>0.165913</td>\n",
       "    </tr>\n",
       "    <tr>\n",
       "      <th>release_year</th>\n",
       "      <td>0.157652</td>\n",
       "      <td>0.055634</td>\n",
       "      <td>-0.030855</td>\n",
       "      <td>0.222355</td>\n",
       "      <td>-0.064157</td>\n",
       "      <td>1.000000</td>\n",
       "      <td>-0.017984</td>\n",
       "      <td>-0.081965</td>\n",
       "    </tr>\n",
       "    <tr>\n",
       "      <th>budget_adj</th>\n",
       "      <td>0.834499</td>\n",
       "      <td>0.484026</td>\n",
       "      <td>0.235558</td>\n",
       "      <td>0.309665</td>\n",
       "      <td>-0.007567</td>\n",
       "      <td>-0.017984</td>\n",
       "      <td>1.000000</td>\n",
       "      <td>0.471556</td>\n",
       "    </tr>\n",
       "    <tr>\n",
       "      <th>revenue_adj</th>\n",
       "      <td>0.416835</td>\n",
       "      <td>0.864619</td>\n",
       "      <td>0.192371</td>\n",
       "      <td>0.480811</td>\n",
       "      <td>0.165913</td>\n",
       "      <td>-0.081965</td>\n",
       "      <td>0.471556</td>\n",
       "      <td>1.000000</td>\n",
       "    </tr>\n",
       "  </tbody>\n",
       "</table>\n",
       "</div>"
      ],
      "text/plain": [
       "                budget   revenue   runtime  vote_count  vote_average  \\\n",
       "budget        1.000000  0.486658  0.196169    0.354909     -0.041971   \n",
       "revenue       0.486658  1.000000  0.173685    0.540418      0.133446   \n",
       "runtime       0.196169  0.173685  1.000000    0.143596      0.254691   \n",
       "vote_count    0.354909  0.540418  0.143596    1.000000      0.270571   \n",
       "vote_average -0.041971  0.133446  0.254691    0.270571      1.000000   \n",
       "release_year  0.157652  0.055634 -0.030855    0.222355     -0.064157   \n",
       "budget_adj    0.834499  0.484026  0.235558    0.309665     -0.007567   \n",
       "revenue_adj   0.416835  0.864619  0.192371    0.480811      0.165913   \n",
       "\n",
       "              release_year  budget_adj  revenue_adj  \n",
       "budget            0.157652    0.834499     0.416835  \n",
       "revenue           0.055634    0.484026     0.864619  \n",
       "runtime          -0.030855    0.235558     0.192371  \n",
       "vote_count        0.222355    0.309665     0.480811  \n",
       "vote_average     -0.064157   -0.007567     0.165913  \n",
       "release_year      1.000000   -0.017984    -0.081965  \n",
       "budget_adj       -0.017984    1.000000     0.471556  \n",
       "revenue_adj      -0.081965    0.471556     1.000000  "
      ]
     },
     "execution_count": 22,
     "metadata": {},
     "output_type": "execute_result"
    }
   ],
   "source": [
    "#correlación con método kendall\n",
    "df.corr(method ='kendall')"
   ]
  },
  {
   "cell_type": "markdown",
   "metadata": {},
   "source": [
    "> We can observe that the correlation is not that clear, we have movies with low budgets and high revenues but also movies with high budgets and low revenues. Nevertheless, it seems like a possitive correlation."
   ]
  },
  {
   "cell_type": "markdown",
   "metadata": {},
   "source": [
    "### Research Question 3: Which movie had the highest and lowest runtime, and which is the mean runtime?"
   ]
  },
  {
   "cell_type": "code",
   "execution_count": 23,
   "metadata": {},
   "outputs": [
    {
     "data": {
      "text/plain": [
       "imdb_id                                                         tt1321865\n",
       "budget                                                            1.8e+07\n",
       "revenue                                                            871279\n",
       "original_title                                                     Carlos\n",
       "cast                    Edgar RamÃ­rez|Alexander Scheer|Fadi Abi Samra...\n",
       "director                                                  Olivier Assayas\n",
       "runtime                                                               338\n",
       "genres                                       Crime|Drama|Thriller|History\n",
       "production_companies    Egoli Tossell Film AG|Canal+|Arte France|Films...\n",
       "vote_count                                                             35\n",
       "vote_average                                                          6.2\n",
       "release_year                                                         2010\n",
       "budget_adj                                                        1.8e+07\n",
       "revenue_adj                                                        871279\n",
       "Name: 2107, dtype: object"
      ]
     },
     "execution_count": 23,
     "metadata": {},
     "output_type": "execute_result"
    }
   ],
   "source": [
    "#Select the movie with the maximum runtime\n",
    "df.loc[df['runtime'].idxmax()]"
   ]
  },
  {
   "cell_type": "markdown",
   "metadata": {},
   "source": [
    "> The movie with the highest runtime was 'Carlos', directed by Oliver Assayas with a runtime of 338 minutes."
   ]
  },
  {
   "cell_type": "code",
   "execution_count": 24,
   "metadata": {},
   "outputs": [
    {
     "data": {
      "text/plain": [
       "imdb_id                                                         tt0368574\n",
       "budget                                                                 10\n",
       "revenue                                                                 5\n",
       "original_title                                                Kid's Story\n",
       "cast                    Clayton Watson|Keanu Reeves|Carrie-Anne Moss|K...\n",
       "director                                              Shinichiro Watanabe\n",
       "runtime                                                                15\n",
       "genres                                          Science Fiction|Animation\n",
       "production_companies                                          Studio 4Â°C\n",
       "vote_count                                                             16\n",
       "vote_average                                                          6.8\n",
       "release_year                                                         2003\n",
       "budget_adj                                                        11.8535\n",
       "revenue_adj                                                       5.92676\n",
       "Name: 5162, dtype: object"
      ]
     },
     "execution_count": 24,
     "metadata": {},
     "output_type": "execute_result"
    }
   ],
   "source": [
    "#Select the movie with the minimum runtime\n",
    "df.loc[df['runtime'].idxmin()]"
   ]
  },
  {
   "cell_type": "markdown",
   "metadata": {},
   "source": [
    ">The movie with the lowest runtime was 'Kid's Story', directed by Shinichiro Watanabe with a runtime of 15 minutes."
   ]
  },
  {
   "cell_type": "code",
   "execution_count": 25,
   "metadata": {},
   "outputs": [
    {
     "data": {
      "text/plain": [
       "109.35111695137977"
      ]
     },
     "execution_count": 25,
     "metadata": {},
     "output_type": "execute_result"
    }
   ],
   "source": [
    "#Select the mean for runtime\n",
    "df['runtime'].mean()"
   ]
  },
  {
   "cell_type": "markdown",
   "metadata": {},
   "source": [
    "> The mean runtime was 109.35 minutes\n"
   ]
  },
  {
   "cell_type": "code",
   "execution_count": 26,
   "metadata": {},
   "outputs": [
    {
     "data": {
      "text/plain": [
       "count    3805.000000\n",
       "mean      109.351117\n",
       "std        19.845678\n",
       "min        15.000000\n",
       "25%        96.000000\n",
       "50%       106.000000\n",
       "75%       119.000000\n",
       "max       338.000000\n",
       "Name: runtime, dtype: float64"
      ]
     },
     "execution_count": 26,
     "metadata": {},
     "output_type": "execute_result"
    }
   ],
   "source": [
    "df['runtime'].describe()"
   ]
  },
  {
   "cell_type": "code",
   "execution_count": 27,
   "metadata": {},
   "outputs": [
    {
     "data": {
      "text/plain": [
       "<matplotlib.axes._subplots.AxesSubplot at 0x7f3dd37faeb8>"
      ]
     },
     "execution_count": 27,
     "metadata": {},
     "output_type": "execute_result"
    },
    {
     "data": {
      "image/png": "[encoded data removed]",
      "text/plain": [
       "<matplotlib.figure.Figure at 0x7f3dd3571710>"
      ]
     },
     "metadata": {
      "needs_background": "light"
     },
     "output_type": "display_data"
    }
   ],
   "source": [
    "# Let's plot the runtimes of all the movies to observe the distribution\n",
    "\n",
    "# Title of the histogram\n",
    "plt.title('Runtime distribution of all the movies')\n",
    "# Name the x-axis\n",
    "plt.xlabel('Runtime of Movies in Minutes')\n",
    "# Name the y-axis\n",
    "plt.ylabel('Number of Movies')\n",
    "\n",
    "# Plot the histogram\n",
    "df['runtime'].hist()"
   ]
  },
  {
   "cell_type": "markdown",
   "metadata": {},
   "source": [
    "> Most of the movies are in the range of 80 minutes to 110 minutes."
   ]
  },
  {
   "cell_type": "markdown",
   "metadata": {},
   "source": [
    "### Research Question 4: Which movie had the highest and lowest vote average?"
   ]
  },
  {
   "cell_type": "code",
   "execution_count": 28,
   "metadata": {},
   "outputs": [
    {
     "data": {
      "text/plain": [
       "imdb_id                                                         tt0111161\n",
       "budget                                                            2.5e+07\n",
       "revenue                                                       2.83415e+07\n",
       "original_title                                   The Shawshank Redemption\n",
       "cast                    Tim Robbins|Morgan Freeman|Bob Gunton|William ...\n",
       "director                                                   Frank Darabont\n",
       "runtime                                                               142\n",
       "genres                                                        Drama|Crime\n",
       "production_companies                            Castle Rock Entertainment\n",
       "vote_count                                                           5754\n",
       "vote_average                                                          8.4\n",
       "release_year                                                         1994\n",
       "budget_adj                                                    3.67778e+07\n",
       "revenue_adj                                                   4.16935e+07\n",
       "Name: 4178, dtype: object"
      ]
     },
     "execution_count": 28,
     "metadata": {},
     "output_type": "execute_result"
    }
   ],
   "source": [
    "#Select the movie with the maximum vote average\n",
    "df.loc[df['vote_average'].idxmax()]"
   ]
  },
  {
   "cell_type": "markdown",
   "metadata": {},
   "source": [
    ">The movie with the highest vote average was 'The Shawshank Redemption', realeased in 1994 with an average of 8.4."
   ]
  },
  {
   "cell_type": "code",
   "execution_count": 29,
   "metadata": {},
   "outputs": [
    {
     "data": {
      "text/plain": [
       "imdb_id                                                         tt0249516\n",
       "budget                                                            6.5e+07\n",
       "revenue                                                             73706\n",
       "original_title                                                 Foodfight!\n",
       "cast                    Charlie Sheen|Wayne Brady|Hilary Duff|Eva Long...\n",
       "director                                                Lawrence Kasanoff\n",
       "runtime                                                                87\n",
       "genres                                     Animation|Action|Comedy|Family\n",
       "production_companies    Threshold Entertainment|Lions Gate Family Ente...\n",
       "vote_count                                                             12\n",
       "vote_average                                                          2.2\n",
       "release_year                                                         2012\n",
       "budget_adj                                                    6.17334e+07\n",
       "revenue_adj                                                       70001.9\n",
       "Name: 4859, dtype: object"
      ]
     },
     "execution_count": 29,
     "metadata": {},
     "output_type": "execute_result"
    }
   ],
   "source": [
    "#Select the movie with the minimum vote average\n",
    "df.loc[df['vote_average'].idxmin()]"
   ]
  },
  {
   "cell_type": "markdown",
   "metadata": {},
   "source": [
    ">The movie with the lowest vote average was 'Foodfight!', realeased in 2012 with an average of 2.2."
   ]
  },
  {
   "cell_type": "code",
   "execution_count": 30,
   "metadata": {},
   "outputs": [
    {
     "data": {
      "text/plain": [
       "count    3805.000000\n",
       "mean        6.170565\n",
       "std         0.792437\n",
       "min         2.200000\n",
       "25%         5.700000\n",
       "50%         6.200000\n",
       "75%         6.700000\n",
       "max         8.400000\n",
       "Name: vote_average, dtype: float64"
      ]
     },
     "execution_count": 30,
     "metadata": {},
     "output_type": "execute_result"
    }
   ],
   "source": [
    "df['vote_average'].describe()"
   ]
  },
  {
   "cell_type": "code",
   "execution_count": 31,
   "metadata": {},
   "outputs": [
    {
     "data": {
      "text/plain": [
       "<matplotlib.axes._subplots.AxesSubplot at 0x7f3dd37f5630>"
      ]
     },
     "execution_count": 31,
     "metadata": {},
     "output_type": "execute_result"
    },
    {
     "data": {
      "image/png": "[encoded data removed]",
      "text/plain": [
       "<matplotlib.figure.Figure at 0x7f3dd358f550>"
      ]
     },
     "metadata": {
      "needs_background": "light"
     },
     "output_type": "display_data"
    }
   ],
   "source": [
    "# Let's plot the vote averages of all the movies to observe the distribution\n",
    "\n",
    "# Title of the histogram\n",
    "plt.title('Vote average distribution of all the movies')\n",
    "# Name the x-axis\n",
    "plt.xlabel('Vote Average')\n",
    "# Name the y-axis\n",
    "plt.ylabel('Number of Movies')\n",
    "\n",
    "# Plot the histogram\n",
    "df['vote_average'].hist()"
   ]
  },
  {
   "cell_type": "markdown",
   "metadata": {},
   "source": [
    "> It seems like the vote average follows a normal distribution. We will consider that popular movies have more than 6.7 points in vote_average."
   ]
  },
  {
   "cell_type": "code",
   "execution_count": 32,
   "metadata": {},
   "outputs": [
    {
     "data": {
      "image/png": "[encoded data removed]",
      "text/plain": [
       "<matplotlib.figure.Figure at 0x7f3dd37a9128>"
      ]
     },
     "metadata": {
      "needs_background": "light"
     },
     "output_type": "display_data"
    }
   ],
   "source": [
    "#Let's see if there's any relation between vote average and revenue\n",
    "\n",
    "# Title\n",
    "plt.title('Relation between vote average and revenue')\n",
    "# Name the x-axis\n",
    "plt.xlabel('Vote Average')\n",
    "# Name the y-axis\n",
    "plt.ylabel('Revenue Adjusted')\n",
    "\n",
    "plt.scatter(df['vote_average'], df['revenue_adj'], alpha=0.5)\n",
    "plt.show()"
   ]
  },
  {
   "cell_type": "markdown",
   "metadata": {},
   "source": [
    "> We can see that the relation between vote average and revenue is positive. This makes sense, if the voters like the movie then they will recommend it to others and rice the revenue."
   ]
  },
  {
   "cell_type": "code",
   "execution_count": 33,
   "metadata": {},
   "outputs": [
    {
     "data": {
      "image/png": "[encoded data removed]",
      "text/plain": [
       "<matplotlib.figure.Figure at 0x7f3dd374b160>"
      ]
     },
     "metadata": {
      "needs_background": "light"
     },
     "output_type": "display_data"
    }
   ],
   "source": [
    "#Let's see if there's any relation between vote average and budget\n",
    "\n",
    "# Title\n",
    "plt.title('Relation between vote average and budget')\n",
    "# Name the x-axis\n",
    "plt.xlabel('Vote Average')\n",
    "# Name the y-axis\n",
    "plt.ylabel('Budget Adjusted')\n",
    "\n",
    "plt.scatter(df['vote_average'], df['budget_adj'], alpha=0.5)\n",
    "plt.show()"
   ]
  },
  {
   "cell_type": "markdown",
   "metadata": {},
   "source": [
    "> We can see that the movies with the highest budgets are within the mean average vote"
   ]
  },
  {
   "cell_type": "markdown",
   "metadata": {},
   "source": [
    "### Research Question 5: Which is the most popular genre?"
   ]
  },
  {
   "cell_type": "code",
   "execution_count": 34,
   "metadata": {},
   "outputs": [],
   "source": [
    "# We will make a new Dataframe with the most popular movies\n",
    "df_popular = df[df['vote_average'] >= 6.7]\n",
    "# Reindexing the dataframe\n",
    "df_popular.index = range(len(df_popular))\n"
   ]
  },
  {
   "cell_type": "markdown",
   "metadata": {},
   "source": [
    ">For the following questions we will use the **df_popular** Dataframe that contains the data of the most popular movies. In order to do that, we gathered the information of movies with a **'vote_average'** greater or equal to 6.7."
   ]
  },
  {
   "cell_type": "code",
   "execution_count": 35,
   "metadata": {},
   "outputs": [
    {
     "data": {
      "text/plain": [
       "19"
      ]
     },
     "execution_count": 35,
     "metadata": {},
     "output_type": "execute_result"
    }
   ],
   "source": [
    "#Let's separete the genres to quantify each one of them separetedly\n",
    "genres_count = pd.Series(df_popular['genres'].str.cat(sep = '|').split('|')).value_counts(ascending = False)\n",
    "genres_count.nunique()"
   ]
  },
  {
   "cell_type": "code",
   "execution_count": 36,
   "metadata": {},
   "outputs": [
    {
     "data": {
      "image/png": "[encoded data removed]",
      "text/plain": [
       "<matplotlib.figure.Figure at 0x7f3dd3633c50>"
      ]
     },
     "metadata": {
      "needs_background": "light"
     },
     "output_type": "display_data"
    }
   ],
   "source": [
    "# Let's plot the count of the genres to visualize it.\n",
    "genres = genres_count.plot.bar(color = 'b', fontsize = 10)\n",
    "\n",
    "# Title\n",
    "genres.set(title = 'Top Genres')\n",
    "# Name the x-axis\n",
    "genres.set_xlabel('Type of genres')\n",
    "# Name the y-axis\n",
    "genres.set_ylabel('Number of Movies')\n",
    "\n",
    "plt.show()"
   ]
  },
  {
   "cell_type": "markdown",
   "metadata": {},
   "source": [
    "> The most popular genre by far is Drama, followed by Thriller and Comedy."
   ]
  },
  {
   "cell_type": "markdown",
   "metadata": {},
   "source": [
    "### Research Question 6: Which is the most popular cast member?"
   ]
  },
  {
   "cell_type": "code",
   "execution_count": 37,
   "metadata": {},
   "outputs": [
    {
     "data": {
      "text/plain": [
       "Brad Pitt                 20\n",
       "Robert De Niro            20\n",
       "Tom Hanks                 17\n",
       "Al Pacino                 15\n",
       "Samuel L. Jackson         15\n",
       "Dustin Hoffman            15\n",
       "Meryl Streep              14\n",
       "Johnny Depp               13\n",
       "Leonardo DiCaprio         13\n",
       "Harrison Ford             13\n",
       "Ed Harris                 13\n",
       "Willem Dafoe              12\n",
       "Mark Ruffalo              12\n",
       "Philip Seymour Hoffman    12\n",
       "Gene Hackman              12\n",
       "Ethan Hawke               12\n",
       "Morgan Freeman            12\n",
       "Denzel Washington         12\n",
       "Cate Blanchett            12\n",
       "Matt Damon                12\n",
       "Julianne Moore            11\n",
       "Robert Duvall             11\n",
       "Ralph Fiennes             11\n",
       "Robert Downey Jr.         11\n",
       "John Goodman              11\n",
       "Christian Bale            11\n",
       "Kate Winslet              11\n",
       "Tom Cruise                11\n",
       "Sean Connery              11\n",
       "Jake Gyllenhaal           10\n",
       "                          ..\n",
       "Darlene Cates              1\n",
       "Krysten Ritter             1\n",
       "Clarence Nash              1\n",
       "Heida Reed                 1\n",
       "Gabrielle Anwar            1\n",
       "Brad Dourif                1\n",
       "Misha Gabriel              1\n",
       "Leigh Whannell             1\n",
       "Imogene Wolodarsky         1\n",
       "Christopher Evan Welch     1\n",
       "Emmanuelle Seigner         1\n",
       "Kevin Downes               1\n",
       "Kulbhushan Kharbanda       1\n",
       "David Huddleston           1\n",
       "Willow Smith               1\n",
       "Kayvan Novak               1\n",
       "Dana Ashbrook              1\n",
       "Sean Patrick Flanery       1\n",
       "Jon Lovitz                 1\n",
       "Victor Wong                1\n",
       "Soon-Tek Oh                1\n",
       "David Banner               1\n",
       "Glen Hansard               1\n",
       "Johnny Galecki             1\n",
       "David Oyelowo              1\n",
       "Joaquim de Almeida         1\n",
       "Thomas Haden Church        1\n",
       "Stephen Graham             1\n",
       "Derek Luke                 1\n",
       "John Bennett               1\n",
       "Length: 2836, dtype: int64"
      ]
     },
     "execution_count": 37,
     "metadata": {},
     "output_type": "execute_result"
    }
   ],
   "source": [
    "#Let's separete the cast members to quantify each one of them separetedly\n",
    "cast_count = pd.Series(df_popular['cast'].str.cat(sep = '|').split('|')).value_counts(ascending = False)\n",
    "cast_count"
   ]
  },
  {
   "cell_type": "code",
   "execution_count": 38,
   "metadata": {},
   "outputs": [
    {
     "data": {
      "image/png": "[encoded data removed]",
      "text/plain": [
       "<matplotlib.figure.Figure at 0x7f3dd362f908>"
      ]
     },
     "metadata": {
      "needs_background": "light"
     },
     "output_type": "display_data"
    }
   ],
   "source": [
    "# Let's plot the count of the genres to visualize it.\n",
    "cast = cast_count.head(20).plot.bar(color = 'g', fontsize = 10)\n",
    "\n",
    "# Title\n",
    "cast.set(title = 'Top Cast Member')\n",
    "# Name the x-axis\n",
    "cast.set_xlabel('Cast Member')\n",
    "# Name the y-axis\n",
    "cast.set_ylabel('Number of Movies')\n",
    "\n",
    "plt.show()"
   ]
  },
  {
   "cell_type": "markdown",
   "metadata": {},
   "source": [
    "> In order to attract costumers, is really important to choose your cast well. Here we can observe that Brad Pitt, Robert De Niro and Tom Hanks are the most popular actors."
   ]
  },
  {
   "cell_type": "markdown",
   "metadata": {},
   "source": [
    "<a id='conclusions'></a>\n",
    "## Conclusions\n",
    "\n",
    "\n"
   ]
  },
  {
   "cell_type": "markdown",
   "metadata": {},
   "source": [
    ">The TMDb movie dataset contains information of 10866 movies. After the data cleaning and wrangling, we dismissed the 0 values for the rows budget, revenue and runtime, and droped the duplicated and null values. \n",
    "\n",
    ">We used descriptive statistics and different plots to analyse and answer question like: Which movie had the highest and lowest budget, revenue, runtime and average vote? Which is the most popular genre and cast member?\n",
    "\n",
    ">We observed that the relation between average vote and revenue is positive, and also that the movies with the highest budgets are within the mean average vote. The mean runtime was 109.35 minutes.\n",
    "\n",
    ">We wanted to make further analysis on movies that had an average vote greater or equal to 6.7. It showed that the most popular genre in this type of movies are Drama, followed by Thriller and Comedy; and the most popular actors are Brad Pitt, Robert De Niro and Tom Hanks.\n",
    "\n",
    "\n",
    "### Limitations:\n",
    "\n",
    ">We had to remove many information in the cleaning data and wrangling process that could affect the results we found in this project. Also, not all the movies had the same amount of votes so the ones with fewer votes may be under or overrated.\n"
   ]
  },
  {
   "cell_type": "code",
   "execution_count": 39,
   "metadata": {},
   "outputs": [
    {
     "data": {
      "text/plain": [
       "0"
      ]
     },
     "execution_count": 39,
     "metadata": {},
     "output_type": "execute_result"
    }
   ],
   "source": [
    "from subprocess import call\n",
    "call(['python', '-m', 'nbconvert', 'Investigate_a_Dataset.ipynb'])"
   ]
  }
 ],
 "metadata": {
  "kernelspec": {
   "display_name": "Python 3",
   "language": "python",
   "name": "python3"
  },
  "language_info": {
   "codemirror_mode": {
    "name": "ipython",
    "version": 3
   },
   "file_extension": ".py",
   "mimetype": "text/x-python",
   "name": "python",
   "nbconvert_exporter": "python",
   "pygments_lexer": "ipython3",
   "version": "3.6.3"
  }
 },
 "nbformat": 4,
 "nbformat_minor": 2
}
